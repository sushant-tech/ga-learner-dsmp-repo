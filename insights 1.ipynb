{
 "cells": [
  {
   "cell_type": "code",
   "execution_count": 9,
   "metadata": {},
   "outputs": [],
   "source": [
    "import pandas as pd \n",
    "import numpy as np \n",
    "import matplotlib.pyplot as plt \n",
    "%matplotlib inline\n",
    "import seaborn as sns"
   ]
  },
  {
   "cell_type": "code",
   "execution_count": 2,
   "metadata": {},
   "outputs": [
    {
     "name": "stderr",
     "output_type": "stream",
     "text": [
      "C:\\Users\\admin\\Anaconda3\\lib\\site-packages\\IPython\\core\\interactiveshell.py:3058: DtypeWarning: Columns (1,2) have mixed types. Specify dtype option on import or set low_memory=False.\n",
      "  interactivity=interactivity, compiler=compiler, result=result)\n"
     ]
    }
   ],
   "source": [
    "customer_data = pd.read_csv('customer_data_clean.csv')"
   ]
  },
  {
   "cell_type": "code",
   "execution_count": 5,
   "metadata": {},
   "outputs": [],
   "source": [
    "customer_data['Data Origin'] = customer_data['Data Origin'].apply(lambda x : str(x))"
   ]
  },
  {
   "cell_type": "code",
   "execution_count": 7,
   "metadata": {
    "scrolled": true
   },
   "outputs": [
    {
     "data": {
      "text/plain": [
       "Z005    26.985548\n",
       "Z006    21.907379\n",
       "Z001    11.387119\n",
       "Z002     6.901383\n",
       "Z004     6.626775\n",
       "Z019     5.362500\n",
       "Z021     5.191073\n",
       "Z018     2.769845\n",
       "Z013     2.515045\n",
       "Z008     2.182815\n",
       "Z016     1.461812\n",
       "Z011     1.444706\n",
       "Z010     1.127241\n",
       "Z017     1.023701\n",
       "Z003     0.915118\n",
       "Z014     0.722803\n",
       "Z012     0.691471\n",
       "Z007     0.372566\n",
       "Z015     0.134153\n",
       "Z009     0.132352\n",
       "Z020     0.106242\n",
       "1.0      0.024490\n",
       "Z022     0.013865\n",
       "Name: Data Origin, dtype: float64"
      ]
     },
     "execution_count": 7,
     "metadata": {},
     "output_type": "execute_result"
    }
   ],
   "source": [
    "##data origin counts (marketing)\n",
    "customer_data['Data Origin'].value_counts()*100/len(customer_data)"
   ]
  },
  {
   "cell_type": "code",
   "execution_count": 248,
   "metadata": {},
   "outputs": [
    {
     "data": {
      "text/html": [
       "<div>\n",
       "<style scoped>\n",
       "    .dataframe tbody tr th:only-of-type {\n",
       "        vertical-align: middle;\n",
       "    }\n",
       "\n",
       "    .dataframe tbody tr th {\n",
       "        vertical-align: top;\n",
       "    }\n",
       "\n",
       "    .dataframe thead th {\n",
       "        text-align: right;\n",
       "    }\n",
       "</style>\n",
       "<table border=\"1\" class=\"dataframe\">\n",
       "  <thead>\n",
       "    <tr style=\"text-align: right;\">\n",
       "      <th></th>\n",
       "      <th>Unnamed: 0</th>\n",
       "      <th>Business Partner</th>\n",
       "      <th>Customer No.</th>\n",
       "      <th>Partner Type</th>\n",
       "      <th>Data Origin</th>\n",
       "    </tr>\n",
       "  </thead>\n",
       "  <tbody>\n",
       "    <tr>\n",
       "      <td>0</td>\n",
       "      <td>0</td>\n",
       "      <td>31</td>\n",
       "      <td>1</td>\n",
       "      <td>1.0</td>\n",
       "      <td>Z001</td>\n",
       "    </tr>\n",
       "    <tr>\n",
       "      <td>1</td>\n",
       "      <td>1</td>\n",
       "      <td>32</td>\n",
       "      <td>2</td>\n",
       "      <td>1.0</td>\n",
       "      <td>Z005</td>\n",
       "    </tr>\n",
       "    <tr>\n",
       "      <td>2</td>\n",
       "      <td>2</td>\n",
       "      <td>34</td>\n",
       "      <td>4</td>\n",
       "      <td>1.0</td>\n",
       "      <td>Z005</td>\n",
       "    </tr>\n",
       "    <tr>\n",
       "      <td>3</td>\n",
       "      <td>3</td>\n",
       "      <td>35</td>\n",
       "      <td>5</td>\n",
       "      <td>1.0</td>\n",
       "      <td>Z005</td>\n",
       "    </tr>\n",
       "    <tr>\n",
       "      <td>4</td>\n",
       "      <td>4</td>\n",
       "      <td>42</td>\n",
       "      <td>7</td>\n",
       "      <td>1.0</td>\n",
       "      <td>Z008</td>\n",
       "    </tr>\n",
       "  </tbody>\n",
       "</table>\n",
       "</div>"
      ],
      "text/plain": [
       "   Unnamed: 0 Business Partner Customer No.  Partner Type Data Origin\n",
       "0           0               31            1           1.0        Z001\n",
       "1           1               32            2           1.0        Z005\n",
       "2           2               34            4           1.0        Z005\n",
       "3           3               35            5           1.0        Z005\n",
       "4           4               42            7           1.0        Z008"
      ]
     },
     "execution_count": 248,
     "metadata": {},
     "output_type": "execute_result"
    }
   ],
   "source": [
    "customer_data.head()"
   ]
  },
  {
   "cell_type": "code",
   "execution_count": 22,
   "metadata": {},
   "outputs": [],
   "source": [
    "import matplotlib.cm as cm\n",
    "from matplotlib.colors import Normalize\n",
    "# Get a color map\n",
    "my_cmap = cm.get_cmap('jet')\n",
    " \n",
    "# Get normalize function (takes data in range [vmin, vmax] -> [0, 1])\n",
    "my_norm = Normalize(vmin=0, vmax=8)"
   ]
  },
  {
   "cell_type": "code",
   "execution_count": 27,
   "metadata": {},
   "outputs": [
    {
     "data": {
      "text/plain": [
       "<BarContainer object of 7 artists>"
      ]
     },
     "execution_count": 27,
     "metadata": {},
     "output_type": "execute_result"
    },
    {
     "data": {
      "image/png": "[encoded data removed]",
      "text/plain": [
       "<Figure size 1008x576 with 1 Axes>"
      ]
     },
     "metadata": {
      "needs_background": "light"
     },
     "output_type": "display_data"
    }
   ],
   "source": [
    "df = customer_data['Data Origin'].value_counts().head(7)\n",
    "plt.figure(figsize=[14,8])\n",
    "plt.xlabel('Marketing Source')\n",
    "plt.ylabel('No. of customers per Marketing source')\n",
    "plt.title('Distribution of customers across various marketing sources')\n",
    "plt.bar(df.index, df, color=['Yellow','Gold','Goldenrod','Orange','Green','Yellowgreen','Lime'])"
   ]
  },
  {
   "cell_type": "code",
   "execution_count": 28,
   "metadata": {},
   "outputs": [
    {
     "name": "stdout",
     "output_type": "stream",
     "text": [
      "<class 'pandas.core.frame.DataFrame'>\n",
      "RangeIndex: 492314 entries, 0 to 492313\n",
      "Data columns (total 28 columns):\n",
      "Unnamed: 0             492314 non-null int64\n",
      "Unnamed: 0.1           492314 non-null int64\n",
      "Cust Type              492314 non-null object\n",
      "Customer No.           492314 non-null object\n",
      "Gate Pass Time         492314 non-null object\n",
      "Invoice No             492314 non-null int64\n",
      "Job Card No            492314 non-null int64\n",
      "KMs Reading            492314 non-null int64\n",
      "Labour Total           492314 non-null float64\n",
      "Make                   492314 non-null object\n",
      "Misc Total             492314 non-null float64\n",
      "Model                  490789 non-null object\n",
      "OSL Total              492314 non-null float64\n",
      "Order Type             492314 non-null object\n",
      "Parts Total            492314 non-null float64\n",
      "Pin code               492314 non-null int64\n",
      "Plant                  492314 non-null object\n",
      "Plant Name1            492314 non-null object\n",
      "Print Status           492314 non-null object\n",
      "Recovrbl Exp           492314 non-null float64\n",
      "Total Amt Wtd Tax.     492314 non-null float64\n",
      "User ID                492314 non-null object\n",
      "Invoice_DateTime       492314 non-null object\n",
      "JobCard_DateTime       492314 non-null object\n",
      "Service_Time           492314 non-null object\n",
      "Clean_CITY             445068 non-null object\n",
      "Clean_District         445068 non-null object\n",
      "Clean_Location_Area    445068 non-null object\n",
      "dtypes: float64(6), int64(6), object(16)\n",
      "memory usage: 105.2+ MB\n"
     ]
    }
   ],
   "source": [
    "invoice_data = pd.read_csv('invoice_data_clean.csv')\n",
    "invoice_data.info()"
   ]
  },
  {
   "cell_type": "code",
   "execution_count": 29,
   "metadata": {},
   "outputs": [
    {
     "name": "stdout",
     "output_type": "stream",
     "text": [
      "Retail              99.325837\n",
      "Fleets               0.450525\n",
      "Corporate others     0.117608\n",
      "Corporate- M&M       0.051593\n",
      "MFCWL                0.051187\n",
      "Franchise            0.003047\n",
      "Insurance            0.000203\n",
      "Name: Cust Type, dtype: float64\n",
      "MARUTI SUZUKI           29.879711\n",
      "MAHINDRA &  MAHINDRA    17.743960\n",
      "HYUNDAI                 17.334872\n",
      "TATA MOTORS             11.788005\n",
      "GENERAL MOTORS           5.909237\n",
      "FORD                     4.390694\n",
      "TOYOTA                   3.953981\n",
      "HONDA                    3.141085\n",
      "SKODA                    1.323342\n",
      "FIAT                     1.307499\n",
      "VOLKSWAGEN               1.249203\n",
      "RENAULT                  0.696507\n",
      "NISSAN                   0.627648\n",
      "MITSUBISHI MOTORS        0.289856\n",
      "DAEWOO                   0.079624\n",
      "BMW                      0.052202\n",
      "MERCEDES BENZ            0.051999\n",
      "AUDI                     0.044687\n",
      "HINDUSTAN MOTORS         0.044484\n",
      "FORCE                    0.042046\n",
      "PREMIER AUTOMOBILES      0.018890\n",
      "SONALIKA                 0.017672\n",
      "LAND ROVER               0.004266\n",
      "VOLVO                    0.003859\n",
      "SAN MOTORS               0.001625\n",
      "JEEP                     0.001422\n",
      "PORCHE                   0.001219\n",
      "MORRIS                   0.000406\n",
      "Name: Make, dtype: float64\n",
      "SWIFT           6.479401\n",
      "ALTO            5.803004\n",
      "SANTRO          4.983811\n",
      "SCORPIO CRDE    4.828423\n",
      "WAGONR          4.644190\n",
      "                  ...   \n",
      "Z4              0.000203\n",
      "TRAILBLAZER     0.000203\n",
      "ECO SPORT       0.000203\n",
      "ESTILO          0.000203\n",
      "TREKKER         0.000203\n",
      "Name: Model, Length: 245, dtype: float64\n",
      "Running Repairs      54.732346\n",
      "Paid Service         27.422336\n",
      "Accidental            8.969682\n",
      "SMC Redemption        3.196740\n",
      "Mechanical            3.067148\n",
      "SMC Value Package     1.986740\n",
      "Repeat Order          0.618101\n",
      "Workshop Damage       0.003453\n",
      "WBW Order             0.003453\n",
      "Name: Order Type, dtype: float64\n",
      "BC03    5.812347\n",
      "BC01    2.941822\n",
      "BC05    2.706200\n",
      "BC26    2.691981\n",
      "BC06    2.590217\n",
      "          ...   \n",
      "X432    0.002234\n",
      "X339    0.001625\n",
      "X359    0.001016\n",
      "X206    0.000406\n",
      "X211    0.000203\n",
      "Name: Plant, Length: 242, dtype: float64\n",
      "NO     91.689247\n",
      "YES     8.310753\n",
      "Name: Print Status, dtype: float64\n",
      "Pune         6.657743\n",
      "Hyderabad    5.308807\n",
      "Nashik       4.820907\n",
      "Chennai      4.390287\n",
      "Ghaziabad    3.821951\n",
      "               ...   \n",
      "Tonk         0.000203\n",
      "Bageshwar    0.000203\n",
      "Udhampur     0.000203\n",
      "Dhubri       0.000203\n",
      "Bharatpur    0.000203\n",
      "Name: Clean_CITY, Length: 461, dtype: float64\n",
      "Maharashtra                                 22.938003\n",
      "Tamil Nadu                                  22.120232\n",
      "Karnataka                                    8.287394\n",
      "Telangana                                    6.122922\n",
      "Uttar Pradesh                                5.791629\n",
      "Gujarat                                      4.318788\n",
      "Punjab                                       3.858919\n",
      "Andhra Pradesh                               3.207506\n",
      "Haryana                                      3.089289\n",
      "Madhya Pradesh                               2.600170\n",
      "Rajasthan                                    2.599357\n",
      "Kerala                                       1.082846\n",
      "Delhi                                        1.041815\n",
      "Himachal Pradesh                             0.595758\n",
      "Bihar                                        0.586414\n",
      "Uttarakhand                                  0.505369\n",
      "Odisha                                       0.436307\n",
      "Pondicherry                                  0.350996\n",
      "Chandigarh                                   0.304480\n",
      "West Bengal                                  0.266293\n",
      "Chattisgarh                                  0.123905\n",
      "Dadra and Nagar Haveli and Daman and Diu     0.100952\n",
      "Jharkhand                                    0.048546\n",
      "Assam                                        0.018484\n",
      "Goa                                          0.005281\n",
      "Jammu & Kashmir                              0.000812\n",
      "Lakshadweep                                  0.000609\n",
      "Arunachal Pradesh                            0.000203\n",
      "Name: Clean_District, dtype: float64\n"
     ]
    }
   ],
   "source": [
    "columns = ['Cust Type','Make', 'Model','Order Type','Plant','Print Status','Clean_CITY', 'Clean_District']\n",
    "for i in columns:\n",
    "    print(invoice_data[i].value_counts()*100/len(invoice_data))"
   ]
  },
  {
   "cell_type": "code",
   "execution_count": 330,
   "metadata": {},
   "outputs": [
    {
     "data": {
      "text/plain": [
       "Index(['MARUTI SUZUKI', 'MAHINDRA &  MAHINDRA', 'HYUNDAI', 'TATA MOTORS',\n",
       "       'GENERAL MOTORS', 'FORD', 'TOYOTA', 'HONDA', 'SKODA', 'FIAT',\n",
       "       'VOLKSWAGEN', 'RENAULT', 'NISSAN', 'MITSUBISHI MOTORS', 'DAEWOO', 'BMW',\n",
       "       'MERCEDES BENZ', 'AUDI', 'HINDUSTAN MOTORS', 'FORCE',\n",
       "       'PREMIER AUTOMOBILES', 'SONALIKA', 'LAND ROVER', 'VOLVO', 'SAN MOTORS',\n",
       "       'JEEP', 'PORCHE', 'MORRIS'],\n",
       "      dtype='object')"
      ]
     },
     "execution_count": 330,
     "metadata": {},
     "output_type": "execute_result"
    }
   ],
   "source": [
    "df = invoice_data['Make'].value_counts()#.head(8)\n",
    "df.index\n",
    "# plt.figure(figsize=[14,8])\n",
    "# plt.xlabel('Car Brands')\n",
    "# plt.ylabel('No. of customers per Car Brand')\n",
    "# plt.title('Distribution of customers across various car brands')\n",
    "# plt.xticks(rotation=45)\n",
    "# plt.bar(df.index, df, color=['Purple','Magenta','Magenta','Lavender','Orchid','Pink','Salmon','Plum'])"
   ]
  },
  {
   "cell_type": "code",
   "execution_count": 333,
   "metadata": {},
   "outputs": [
    {
     "data": {
      "text/plain": [
       "<BarContainer object of 7 artists>"
      ]
     },
     "execution_count": 333,
     "metadata": {},
     "output_type": "execute_result"
    },
    {
     "data": {
      "image/png": "[encoded data removed]",
      "text/plain": [
       "<Figure size 1008x576 with 1 Axes>"
      ]
     },
     "metadata": {
      "needs_background": "light"
     },
     "output_type": "display_data"
    }
   ],
   "source": [
    "df = invoice_data['Order Type'].value_counts().head(7)\n",
    "# df.index\n",
    "plt.figure(figsize=[14,8])\n",
    "plt.xlabel('Types of Services')\n",
    "plt.ylabel('No. of customers per Service Type')\n",
    "plt.title('Distribution of customers across various services')\n",
    "plt.xticks(rotation=45)\n",
    "plt.bar(df.index, df, color=['blue','aquamarine','aqua','grey','grey','cyan','darkblue'])"
   ]
  },
  {
   "cell_type": "code",
   "execution_count": 74,
   "metadata": {},
   "outputs": [
    {
     "data": {
      "text/plain": [
       "<BarContainer object of 30 artists>"
      ]
     },
     "execution_count": 74,
     "metadata": {},
     "output_type": "execute_result"
    },
    {
     "data": {
      "image/png": "[encoded data removed]",
      "text/plain": [
       "<Figure size 1008x576 with 1 Axes>"
      ]
     },
     "metadata": {
      "needs_background": "light"
     },
     "output_type": "display_data"
    }
   ],
   "source": [
    "df = invoice_data['Plant'].value_counts().head(30)\n",
    "df\n",
    "plants = [df.index]\n",
    "plants\n",
    "plt.figure(figsize=[14,8])\n",
    "plt.xlabel('Plants')\n",
    "plt.ylabel('No. of customers per Plant')\n",
    "plt.title('Distribution of customers across various plants')\n",
    "plt.xticks(rotation=45)\n",
    "plt.bar(df.index, df)#, color=['blue','aquamarine','aqua','grey','grey','cyan','darkblue'])"
   ]
  },
  {
   "cell_type": "code",
   "execution_count": 275,
   "metadata": {},
   "outputs": [
    {
     "data": {
      "text/plain": [
       "<BarContainer object of 15 artists>"
      ]
     },
     "execution_count": 275,
     "metadata": {},
     "output_type": "execute_result"
    },
    {
     "data": {
      "image/png": "[encoded data removed]",
      "text/plain": [
       "<Figure size 1008x576 with 1 Axes>"
      ]
     },
     "metadata": {
      "needs_background": "light"
     },
     "output_type": "display_data"
    }
   ],
   "source": [
    "df = invoice_data['Clean_CITY'].value_counts().head(15)\n",
    "plt.figure(figsize=[14,8])\n",
    "plt.xlabel('Cities')\n",
    "plt.ylabel('No. of customers per City')\n",
    "plt.title('Distribution of customers across various cities')\n",
    "plt.xticks(rotation=45)\n",
    "plt.bar(df.index, df, color='goldenrod')"
   ]
  },
  {
   "cell_type": "code",
   "execution_count": 276,
   "metadata": {},
   "outputs": [
    {
     "data": {
      "text/plain": [
       "50.68249125558079"
      ]
     },
     "execution_count": 276,
     "metadata": {},
     "output_type": "execute_result"
    }
   ],
   "source": [
    "df = invoice_data['Clean_CITY'].value_counts().head(15)\n",
    "(df*100/len(invoice_data)).sum()"
   ]
  },
  {
   "cell_type": "code",
   "execution_count": 332,
   "metadata": {},
   "outputs": [
    {
     "data": {
      "text/plain": [
       "<BarContainer object of 13 artists>"
      ]
     },
     "execution_count": 332,
     "metadata": {},
     "output_type": "execute_result"
    },
    {
     "data": {
      "image/png": "[encoded data removed]",
      "text/plain": [
       "<Figure size 1008x576 with 1 Axes>"
      ]
     },
     "metadata": {
      "needs_background": "light"
     },
     "output_type": "display_data"
    }
   ],
   "source": [
    "df = invoice_data['Clean_District'].value_counts().head(13)\n",
    "plt.figure(figsize=[14,8])\n",
    "plt.xlabel('States')\n",
    "plt.ylabel('No. of customers per State')\n",
    "plt.title('Distribution of customers across various states')\n",
    "plt.xticks(rotation=45)\n",
    "plt.bar(df.index, df, color=['red','red','navy','navy','navy','gold','gold','gold','gold','gold','gold','gold'])"
   ]
  },
  {
   "cell_type": "code",
   "execution_count": 93,
   "metadata": {},
   "outputs": [
    {
     "data": {
      "text/plain": [
       "Index(['Unnamed: 0', 'Unnamed: 0.1', 'Cust Type', 'Customer No.',\n",
       "       'Gate Pass Time', 'Invoice No', 'Job Card No', 'KMs Reading',\n",
       "       'Labour Total', 'Make', 'Misc Total', 'Model', 'OSL Total',\n",
       "       'Order Type', 'Parts Total', 'Pin code', 'Plant', 'Plant Name1',\n",
       "       'Print Status', 'Recovrbl Exp', 'Total Amt Wtd Tax.', 'User ID',\n",
       "       'Invoice_DateTime', 'JobCard_DateTime', 'Service_Time', 'Clean_CITY',\n",
       "       'Clean_District', 'Clean_Location_Area'],\n",
       "      dtype='object')"
      ]
     },
     "execution_count": 93,
     "metadata": {},
     "output_type": "execute_result"
    }
   ],
   "source": [
    "invoice_data.columns"
   ]
  },
  {
   "cell_type": "code",
   "execution_count": 132,
   "metadata": {},
   "outputs": [
    {
     "name": "stdout",
     "output_type": "stream",
     "text": [
      "59672.75\n",
      "(468125,)\n",
      "24189\n"
     ]
    }
   ],
   "source": [
    "Q1 = invoice_data['KMs Reading'].quantile(0.25)\n",
    "Q3 = invoice_data['KMs Reading'].quantile(0.75)\n",
    "IQR = Q3 - Q1\n",
    "print(IQR)\n",
    "outliers = invoice_data['KMs Reading'][~((invoice_data['KMs Reading']<(Q1 - 1.5 * IQR))|(invoice_data['KMs Reading']> (Q3 + 1.5 * IQR)))]\n",
    "print(outliers.shape)\n",
    "print(invoice_data.shape[0]-outliers.shape[0])\n",
    "# plt.boxplot(outliers),plt.hist(outliers),sns.distplot(outliers, bins=20, kde=True, rug=False)"
   ]
  },
  {
   "cell_type": "code",
   "execution_count": 135,
   "metadata": {},
   "outputs": [
    {
     "data": {
      "text/plain": [
       "{'whiskers': [<matplotlib.lines.Line2D at 0x2df300f1ac8>,\n",
       "  <matplotlib.lines.Line2D at 0x2df300f1bc8>],\n",
       " 'caps': [<matplotlib.lines.Line2D at 0x2df300f5a88>,\n",
       "  <matplotlib.lines.Line2D at 0x2df300f5b88>],\n",
       " 'boxes': [<matplotlib.lines.Line2D at 0x2df300f11c8>],\n",
       " 'medians': [<matplotlib.lines.Line2D at 0x2df300fba08>],\n",
       " 'fliers': [<matplotlib.lines.Line2D at 0x2df300fbb08>],\n",
       " 'means': []}"
      ]
     },
     "execution_count": 135,
     "metadata": {},
     "output_type": "execute_result"
    },
    {
     "data": {
      "image/png": "[encoded data removed]",
      "text/plain": [
       "<Figure size 432x288 with 1 Axes>"
      ]
     },
     "metadata": {
      "needs_background": "light"
     },
     "output_type": "display_data"
    }
   ],
   "source": [
    "plt.boxplot(outliers)"
   ]
  },
  {
   "cell_type": "code",
   "execution_count": 134,
   "metadata": {},
   "outputs": [
    {
     "data": {
      "text/plain": [
       "(array([50906., 84609., 87607., 78308., 62093., 40610., 26286., 17706.,\n",
       "        11770.,  8230.]),\n",
       " array([     0. ,  18327.7,  36655.4,  54983.1,  73310.8,  91638.5,\n",
       "        109966.2, 128293.9, 146621.6, 164949.3, 183277. ]),\n",
       " <a list of 10 Patch objects>)"
      ]
     },
     "execution_count": 134,
     "metadata": {},
     "output_type": "execute_result"
    },
    {
     "data": {
      "image/png": "[encoded data removed]",
      "text/plain": [
       "<Figure size 432x288 with 1 Axes>"
      ]
     },
     "metadata": {
      "needs_background": "light"
     },
     "output_type": "display_data"
    }
   ],
   "source": [
    "plt.hist(outliers)"
   ]
  },
  {
   "cell_type": "code",
   "execution_count": 133,
   "metadata": {},
   "outputs": [
    {
     "data": {
      "text/plain": [
       "<matplotlib.axes._subplots.AxesSubplot at 0x2df30280c88>"
      ]
     },
     "execution_count": 133,
     "metadata": {},
     "output_type": "execute_result"
    },
    {
     "data": {
      "image/png": "[encoded data removed]",
      "text/plain": [
       "<Figure size 432x288 with 1 Axes>"
      ]
     },
     "metadata": {
      "needs_background": "light"
     },
     "output_type": "display_data"
    }
   ],
   "source": [
    "sns.distplot(outliers, bins=20, kde=True, rug=False)"
   ]
  },
  {
   "cell_type": "code",
   "execution_count": 195,
   "metadata": {},
   "outputs": [
    {
     "name": "stdout",
     "output_type": "stream",
     "text": [
      "4110.93\n",
      "(444902,)\n",
      "47412\n"
     ]
    }
   ],
   "source": [
    "Q1 = invoice_data['Total Amt Wtd Tax.'][invoice_data['Total Amt Wtd Tax.']>=0].quantile(0.25)\n",
    "Q3 = invoice_data['Total Amt Wtd Tax.'][invoice_data['Total Amt Wtd Tax.']>=0].quantile(0.75)\n",
    "IQR = Q3 - Q1\n",
    "print(IQR)\n",
    "outliers = invoice_data['Total Amt Wtd Tax.'][invoice_data['Total Amt Wtd Tax.']>=0][~((invoice_data['Total Amt Wtd Tax.']<(Q1 - 1.5 * IQR))|(invoice_data['Total Amt Wtd Tax.']> (Q3 + 1.5 * IQR)))]\n",
    "print(outliers.shape)\n",
    "print(invoice_data.shape[0]-outliers.shape[0])"
   ]
  },
  {
   "cell_type": "code",
   "execution_count": 196,
   "metadata": {},
   "outputs": [
    {
     "data": {
      "text/plain": [
       "{'whiskers': [<matplotlib.lines.Line2D at 0x2df4063fbc8>,\n",
       "  <matplotlib.lines.Line2D at 0x2df4063fcc8>],\n",
       " 'caps': [<matplotlib.lines.Line2D at 0x2df4063fd48>,\n",
       "  <matplotlib.lines.Line2D at 0x2df40644c48>],\n",
       " 'boxes': [<matplotlib.lines.Line2D at 0x2df4063f508>],\n",
       " 'medians': [<matplotlib.lines.Line2D at 0x2df40644d48>],\n",
       " 'fliers': [<matplotlib.lines.Line2D at 0x2df40644dc8>],\n",
       " 'means': []}"
      ]
     },
     "execution_count": 196,
     "metadata": {},
     "output_type": "execute_result"
    },
    {
     "data": {
      "image/png": "[encoded data removed]",
      "text/plain": [
       "<Figure size 432x288 with 1 Axes>"
      ]
     },
     "metadata": {
      "needs_background": "light"
     },
     "output_type": "display_data"
    }
   ],
   "source": [
    "plt.boxplot(outliers)"
   ]
  },
  {
   "cell_type": "code",
   "execution_count": 197,
   "metadata": {},
   "outputs": [
    {
     "data": {
      "text/plain": [
       "(array([224602.,  56622.,  49641.,  33525.,  24064.,  17598.,  13014.,\n",
       "         10753.,   8464.,   6619.]),\n",
       " array([    0.   ,  1057.587,  2115.174,  3172.761,  4230.348,  5287.935,\n",
       "         6345.522,  7403.109,  8460.696,  9518.283, 10575.87 ]),\n",
       " <a list of 10 Patch objects>)"
      ]
     },
     "execution_count": 197,
     "metadata": {},
     "output_type": "execute_result"
    },
    {
     "data": {
      "image/png": "[encoded data removed]",
      "text/plain": [
       "<Figure size 432x288 with 1 Axes>"
      ]
     },
     "metadata": {
      "needs_background": "light"
     },
     "output_type": "display_data"
    }
   ],
   "source": [
    "plt.hist(outliers)"
   ]
  },
  {
   "cell_type": "code",
   "execution_count": 198,
   "metadata": {},
   "outputs": [
    {
     "data": {
      "text/plain": [
       "<matplotlib.axes._subplots.AxesSubplot at 0x2df406d5908>"
      ]
     },
     "execution_count": 198,
     "metadata": {},
     "output_type": "execute_result"
    },
    {
     "data": {
      "image/png": "[encoded data removed]",
      "text/plain": [
       "<Figure size 432x288 with 1 Axes>"
      ]
     },
     "metadata": {
      "needs_background": "light"
     },
     "output_type": "display_data"
    }
   ],
   "source": [
    "sns.distplot(outliers, bins=20, kde=True, rug=False)"
   ]
  },
  {
   "cell_type": "code",
   "execution_count": 199,
   "metadata": {},
   "outputs": [
    {
     "name": "stdout",
     "output_type": "stream",
     "text": [
      "1274.15\n",
      "(446677,)\n",
      "45637\n"
     ]
    }
   ],
   "source": [
    "Q1 = invoice_data['Labour Total'][invoice_data['Labour Total']>=0].quantile(0.25)\n",
    "Q3 = invoice_data['Labour Total'][invoice_data['Labour Total']>=0].quantile(0.75)\n",
    "IQR = Q3 - Q1\n",
    "print(IQR)\n",
    "outliers = invoice_data['Labour Total'][invoice_data['Labour Total']>=0][~((invoice_data['Labour Total']<(Q1 - 1.5 * IQR))|(invoice_data['Labour Total']> (Q3 + 1.5 * IQR)))]\n",
    "print(outliers.shape)\n",
    "print(invoice_data.shape[0]-outliers.shape[0])"
   ]
  },
  {
   "cell_type": "code",
   "execution_count": 172,
   "metadata": {},
   "outputs": [
    {
     "data": {
      "text/plain": [
       "{'whiskers': [<matplotlib.lines.Line2D at 0x2df3ff50848>,\n",
       "  <matplotlib.lines.Line2D at 0x2df3ff50d88>],\n",
       " 'caps': [<matplotlib.lines.Line2D at 0x2df3ff50e88>,\n",
       "  <matplotlib.lines.Line2D at 0x2df3ff50f08>],\n",
       " 'boxes': [<matplotlib.lines.Line2D at 0x2df3ff50048>],\n",
       " 'medians': [<matplotlib.lines.Line2D at 0x2df3ff55e08>],\n",
       " 'fliers': [<matplotlib.lines.Line2D at 0x2df3ff55f08>],\n",
       " 'means': []}"
      ]
     },
     "execution_count": 172,
     "metadata": {},
     "output_type": "execute_result"
    },
    {
     "data": {
      "image/png": "[encoded data removed]",
      "text/plain": [
       "<Figure size 432x288 with 1 Axes>"
      ]
     },
     "metadata": {
      "needs_background": "light"
     },
     "output_type": "display_data"
    }
   ],
   "source": [
    "plt.boxplot(outliers)"
   ]
  },
  {
   "cell_type": "code",
   "execution_count": 173,
   "metadata": {},
   "outputs": [
    {
     "data": {
      "text/plain": [
       "(array([203431.,  66597.,  61484.,  37668.,  24866.,  16812.,  12501.,\n",
       "          9937.,   7252.,   6129.]),\n",
       " array([   0.   ,  318.616,  637.232,  955.848, 1274.464, 1593.08 ,\n",
       "        1911.696, 2230.312, 2548.928, 2867.544, 3186.16 ]),\n",
       " <a list of 10 Patch objects>)"
      ]
     },
     "execution_count": 173,
     "metadata": {},
     "output_type": "execute_result"
    },
    {
     "data": {
      "image/png": "[encoded data removed]",
      "text/plain": [
       "<Figure size 432x288 with 1 Axes>"
      ]
     },
     "metadata": {
      "needs_background": "light"
     },
     "output_type": "display_data"
    }
   ],
   "source": [
    "plt.hist(outliers)"
   ]
  },
  {
   "cell_type": "code",
   "execution_count": 174,
   "metadata": {},
   "outputs": [
    {
     "data": {
      "text/plain": [
       "<matplotlib.axes._subplots.AxesSubplot at 0x2df40002f88>"
      ]
     },
     "execution_count": 174,
     "metadata": {},
     "output_type": "execute_result"
    },
    {
     "data": {
      "image/png": "[encoded data removed]",
      "text/plain": [
       "<Figure size 432x288 with 1 Axes>"
      ]
     },
     "metadata": {
      "needs_background": "light"
     },
     "output_type": "display_data"
    }
   ],
   "source": [
    "sns.distplot(outliers, bins=20, kde=True, rug=False)"
   ]
  },
  {
   "cell_type": "code",
   "execution_count": 176,
   "metadata": {},
   "outputs": [
    {
     "name": "stdout",
     "output_type": "stream",
     "text": [
      "2250.05\n",
      "(440831,)\n",
      "51483\n"
     ]
    }
   ],
   "source": [
    "Q1 = invoice_data['Parts Total'][invoice_data['Parts Total']>=0].quantile(0.25)\n",
    "Q3 = invoice_data['Parts Total'][invoice_data['Parts Total']>=0].quantile(0.75)\n",
    "IQR = Q3 - Q1\n",
    "print(IQR)\n",
    "outliers = invoice_data['Parts Total'][invoice_data['Parts Total']>=0][~((invoice_data['Parts Total']<(Q1 - 1.5 * IQR))|(invoice_data['Parts Total']> (Q3 + 1.5 * IQR)))]\n",
    "print(outliers.shape)\n",
    "print(invoice_data.shape[0]-outliers.shape[0])"
   ]
  },
  {
   "cell_type": "code",
   "execution_count": 177,
   "metadata": {},
   "outputs": [
    {
     "data": {
      "text/plain": [
       "{'whiskers': [<matplotlib.lines.Line2D at 0x2df400c0848>,\n",
       "  <matplotlib.lines.Line2D at 0x2df400d1fc8>],\n",
       " 'caps': [<matplotlib.lines.Line2D at 0x2df400d1c08>,\n",
       "  <matplotlib.lines.Line2D at 0x2df400d6ac8>],\n",
       " 'boxes': [<matplotlib.lines.Line2D at 0x2df400d1388>],\n",
       " 'medians': [<matplotlib.lines.Line2D at 0x2df400d6f08>],\n",
       " 'fliers': [<matplotlib.lines.Line2D at 0x2df400d6c48>],\n",
       " 'means': []}"
      ]
     },
     "execution_count": 177,
     "metadata": {},
     "output_type": "execute_result"
    },
    {
     "data": {
      "image/png": "[encoded data removed]",
      "text/plain": [
       "<Figure size 432x288 with 1 Axes>"
      ]
     },
     "metadata": {
      "needs_background": "light"
     },
     "output_type": "display_data"
    }
   ],
   "source": [
    "plt.boxplot(outliers)"
   ]
  },
  {
   "cell_type": "code",
   "execution_count": 178,
   "metadata": {},
   "outputs": [
    {
     "data": {
      "text/plain": [
       "(array([270058.,  33531.,  37774.,  27868.,  18541.,  15408.,  13099.,\n",
       "          9889.,   8013.,   6650.]),\n",
       " array([   0.   ,  562.506, 1125.012, 1687.518, 2250.024, 2812.53 ,\n",
       "        3375.036, 3937.542, 4500.048, 5062.554, 5625.06 ]),\n",
       " <a list of 10 Patch objects>)"
      ]
     },
     "execution_count": 178,
     "metadata": {},
     "output_type": "execute_result"
    },
    {
     "data": {
      "image/png": "[encoded data removed]",
      "text/plain": [
       "<Figure size 432x288 with 1 Axes>"
      ]
     },
     "metadata": {
      "needs_background": "light"
     },
     "output_type": "display_data"
    }
   ],
   "source": [
    "plt.hist(outliers)"
   ]
  },
  {
   "cell_type": "code",
   "execution_count": 179,
   "metadata": {},
   "outputs": [
    {
     "data": {
      "text/plain": [
       "<matplotlib.axes._subplots.AxesSubplot at 0x2df4017db08>"
      ]
     },
     "execution_count": 179,
     "metadata": {},
     "output_type": "execute_result"
    },
    {
     "data": {
      "image/png": "[encoded data removed]",
      "text/plain": [
       "<Figure size 432x288 with 1 Axes>"
      ]
     },
     "metadata": {
      "needs_background": "light"
     },
     "output_type": "display_data"
    }
   ],
   "source": [
    "sns.distplot(outliers, bins=20, kde=True, rug=False)"
   ]
  },
  {
   "cell_type": "code",
   "execution_count": 225,
   "metadata": {},
   "outputs": [
    {
     "name": "stdout",
     "output_type": "stream",
     "text": [
      "230.13\n",
      "(108173,)\n",
      "384141\n"
     ]
    }
   ],
   "source": [
    "# 74% of values are 0.00. this is the spread for remaining values. most of the remaining values are centred around 50, 100 and 200 rs.\n",
    "Q1 = invoice_data['Misc Total'][invoice_data['Misc Total']>0].quantile(0.25)\n",
    "Q3 = invoice_data['Misc Total'][invoice_data['Misc Total']>0].quantile(0.75)\n",
    "IQR = Q3 - Q1\n",
    "print(IQR)\n",
    "outliers = invoice_data['Misc Total'][invoice_data['Misc Total']>0][~((invoice_data['Misc Total']<(Q1 - 1.5 * IQR))|(invoice_data['Misc Total']> (Q3 + 1.5 * IQR)))]\n",
    "print(outliers.shape)\n",
    "print(invoice_data.shape[0]-outliers.shape[0])"
   ]
  },
  {
   "cell_type": "code",
   "execution_count": 226,
   "metadata": {},
   "outputs": [
    {
     "data": {
      "text/plain": [
       "{'whiskers': [<matplotlib.lines.Line2D at 0x2df4131f588>,\n",
       "  <matplotlib.lines.Line2D at 0x2df41318f88>],\n",
       " 'caps': [<matplotlib.lines.Line2D at 0x2df4131ff48>,\n",
       "  <matplotlib.lines.Line2D at 0x2df4131fc88>],\n",
       " 'boxes': [<matplotlib.lines.Line2D at 0x2df41318d08>],\n",
       " 'medians': [<matplotlib.lines.Line2D at 0x2df41324f48>],\n",
       " 'fliers': [<matplotlib.lines.Line2D at 0x2df41324ec8>],\n",
       " 'means': []}"
      ]
     },
     "execution_count": 226,
     "metadata": {},
     "output_type": "execute_result"
    },
    {
     "data": {
      "image/png": "[encoded data removed]",
      "text/plain": [
       "<Figure size 432x288 with 1 Axes>"
      ]
     },
     "metadata": {
      "needs_background": "light"
     },
     "output_type": "display_data"
    }
   ],
   "source": [
    "plt.boxplot(outliers)"
   ]
  },
  {
   "cell_type": "code",
   "execution_count": 227,
   "metadata": {},
   "outputs": [
    {
     "data": {
      "text/plain": [
       "(array([30768., 24345., 10721., 20250.,  9202.,  3279.,  3823.,  2747.,\n",
       "         1514.,  1524.]),\n",
       " array([4.00000e-02, 6.45570e+01, 1.29074e+02, 1.93591e+02, 2.58108e+02,\n",
       "        3.22625e+02, 3.87142e+02, 4.51659e+02, 5.16176e+02, 5.80693e+02,\n",
       "        6.45210e+02]),\n",
       " <a list of 10 Patch objects>)"
      ]
     },
     "execution_count": 227,
     "metadata": {},
     "output_type": "execute_result"
    },
    {
     "data": {
      "image/png": "[encoded data removed]",
      "text/plain": [
       "<Figure size 432x288 with 1 Axes>"
      ]
     },
     "metadata": {
      "needs_background": "light"
     },
     "output_type": "display_data"
    }
   ],
   "source": [
    "plt.hist(outliers)"
   ]
  },
  {
   "cell_type": "code",
   "execution_count": 228,
   "metadata": {},
   "outputs": [
    {
     "data": {
      "text/plain": [
       "<matplotlib.axes._subplots.AxesSubplot at 0x2df41246308>"
      ]
     },
     "execution_count": 228,
     "metadata": {},
     "output_type": "execute_result"
    },
    {
     "data": {
      "image/png": "[encoded data removed]",
      "text/plain": [
       "<Figure size 432x288 with 1 Axes>"
      ]
     },
     "metadata": {
      "needs_background": "light"
     },
     "output_type": "display_data"
    }
   ],
   "source": [
    "sns.distplot(outliers, bins=20, kde=True, rug=False)"
   ]
  },
  {
   "cell_type": "code",
   "execution_count": 220,
   "metadata": {},
   "outputs": [
    {
     "name": "stdout",
     "output_type": "stream",
     "text": [
      "2905.2924999999996\n",
      "(59234,)\n",
      "433080\n"
     ]
    }
   ],
   "source": [
    "##86% of osl values consist of 0. this is the spread for non zero values\n",
    "Q1 = invoice_data['OSL Total'][invoice_data['OSL Total']>0].quantile(0.25)\n",
    "Q3 = invoice_data['OSL Total'][invoice_data['OSL Total']>0].quantile(0.75)\n",
    "IQR = Q3 - Q1\n",
    "print(IQR)\n",
    "outliers = invoice_data['OSL Total'][invoice_data['OSL Total']>0][~((invoice_data['OSL Total']<(Q1 - 1.5 * IQR))|(invoice_data['OSL Total']> (Q3 + 1.5 * IQR)))]\n",
    "print(outliers.shape)\n",
    "print(invoice_data.shape[0]-outliers.shape[0])"
   ]
  },
  {
   "cell_type": "code",
   "execution_count": 221,
   "metadata": {},
   "outputs": [
    {
     "data": {
      "text/plain": [
       "{'whiskers': [<matplotlib.lines.Line2D at 0x2df4118d688>,\n",
       "  <matplotlib.lines.Line2D at 0x2df4118dc08>],\n",
       " 'caps': [<matplotlib.lines.Line2D at 0x2df4118dd08>,\n",
       "  <matplotlib.lines.Line2D at 0x2df4118dd88>],\n",
       " 'boxes': [<matplotlib.lines.Line2D at 0x2df41187ec8>],\n",
       " 'medians': [<matplotlib.lines.Line2D at 0x2df41192f08>],\n",
       " 'fliers': [<matplotlib.lines.Line2D at 0x2df41192fc8>],\n",
       " 'means': []}"
      ]
     },
     "execution_count": 221,
     "metadata": {},
     "output_type": "execute_result"
    },
    {
     "data": {
      "image/png": "[encoded data removed]",
      "text/plain": [
       "<Figure size 432x288 with 1 Axes>"
      ]
     },
     "metadata": {
      "needs_background": "light"
     },
     "output_type": "display_data"
    }
   ],
   "source": [
    "plt.boxplot(outliers)"
   ]
  },
  {
   "cell_type": "code",
   "execution_count": 222,
   "metadata": {},
   "outputs": [
    {
     "data": {
      "text/plain": [
       "(array([22574., 16158.,  6052.,  4224.,  2509.,  2100.,  1787.,  1487.,\n",
       "         1271.,  1072.]),\n",
       " array([4.000000e+00, 7.897360e+02, 1.575472e+03, 2.361208e+03,\n",
       "        3.146944e+03, 3.932680e+03, 4.718416e+03, 5.504152e+03,\n",
       "        6.289888e+03, 7.075624e+03, 7.861360e+03]),\n",
       " <a list of 10 Patch objects>)"
      ]
     },
     "execution_count": 222,
     "metadata": {},
     "output_type": "execute_result"
    },
    {
     "data": {
      "image/png": "[encoded data removed]",
      "text/plain": [
       "<Figure size 432x288 with 1 Axes>"
      ]
     },
     "metadata": {
      "needs_background": "light"
     },
     "output_type": "display_data"
    }
   ],
   "source": [
    "plt.hist(outliers)"
   ]
  },
  {
   "cell_type": "code",
   "execution_count": 223,
   "metadata": {},
   "outputs": [
    {
     "data": {
      "text/plain": [
       "<matplotlib.axes._subplots.AxesSubplot at 0x2df41236d08>"
      ]
     },
     "execution_count": 223,
     "metadata": {},
     "output_type": "execute_result"
    },
    {
     "data": {
      "image/png": "[encoded data removed]",
      "text/plain": [
       "<Figure size 432x288 with 1 Axes>"
      ]
     },
     "metadata": {
      "needs_background": "light"
     },
     "output_type": "display_data"
    }
   ],
   "source": [
    "sns.distplot(outliers, bins=20, kde=True, rug=False)"
   ]
  },
  {
   "cell_type": "code",
   "execution_count": 224,
   "metadata": {},
   "outputs": [
    {
     "data": {
      "text/plain": [
       "0.00      74.698465\n",
       "50.00      3.235537\n",
       "100.00     2.064739\n",
       "200.00     1.262609\n",
       "50.01      0.895973\n",
       "49.99      0.850677\n",
       "100.01     0.622367\n",
       "99.99      0.603274\n",
       "150.00     0.392026\n",
       "199.99     0.303059\n",
       "Name: Misc Total, dtype: float64"
      ]
     },
     "execution_count": 224,
     "metadata": {},
     "output_type": "execute_result"
    }
   ],
   "source": [
    "invoice_data['Misc Total'].value_counts().head(10)*100/len(invoice_data)"
   ]
  },
  {
   "cell_type": "code",
   "execution_count": 229,
   "metadata": {},
   "outputs": [
    {
     "data": {
      "text/plain": [
       "0.00      86.346112\n",
       "500.00     0.088561\n",
       "500.01     0.078405\n",
       "499.99     0.077796\n",
       "499.98     0.074343\n",
       "500.02     0.062765\n",
       "490.00     0.061140\n",
       "489.99     0.055859\n",
       "489.98     0.054437\n",
       "490.02     0.054031\n",
       "Name: OSL Total, dtype: float64"
      ]
     },
     "execution_count": 229,
     "metadata": {},
     "output_type": "execute_result"
    }
   ],
   "source": [
    "invoice_data['OSL Total'].value_counts().head(10)*100/len(invoice_data) "
   ]
  },
  {
   "cell_type": "code",
   "execution_count": 231,
   "metadata": {},
   "outputs": [
    {
     "data": {
      "text/plain": [
       "0.00       99.902095\n",
       "500.00      0.011578\n",
       "499.99      0.005281\n",
       "1000.00     0.004062\n",
       "500.01      0.003453\n",
       "1000.01     0.003250\n",
       "1500.00     0.002437\n",
       "999.99      0.002437\n",
       "300.00      0.002437\n",
       "200.00      0.002234\n",
       "Name: Recovrbl Exp, dtype: float64"
      ]
     },
     "execution_count": 231,
     "metadata": {},
     "output_type": "execute_result"
    }
   ],
   "source": [
    "invoice_data['Recovrbl Exp'].value_counts().head(10)*100/len(invoice_data)"
   ]
  },
  {
   "cell_type": "markdown",
   "metadata": {},
   "source": [
    "## 99 % of values for recoverbl exp is 0 rs."
   ]
  },
  {
   "cell_type": "code",
   "execution_count": 233,
   "metadata": {},
   "outputs": [
    {
     "name": "stdout",
     "output_type": "stream",
     "text": [
      "787.5050000000001\n",
      "(427,)\n",
      "491887\n"
     ]
    }
   ],
   "source": [
    "Q1 = invoice_data['Recovrbl Exp'][invoice_data['Recovrbl Exp']>0].quantile(0.25)\n",
    "Q3 = invoice_data['Recovrbl Exp'][invoice_data['Recovrbl Exp']>0].quantile(0.75)\n",
    "IQR = Q3 - Q1\n",
    "print(IQR)\n",
    "outliers = invoice_data['Recovrbl Exp'][invoice_data['Recovrbl Exp']>0][~((invoice_data['Recovrbl Exp']<(Q1 - 1.5 * IQR))|(invoice_data['Recovrbl Exp']> (Q3 + 1.5 * IQR)))]\n",
    "print(outliers.shape)\n",
    "print(invoice_data.shape[0]-outliers.shape[0])"
   ]
  },
  {
   "cell_type": "code",
   "execution_count": 234,
   "metadata": {},
   "outputs": [
    {
     "data": {
      "text/plain": [
       "{'whiskers': [<matplotlib.lines.Line2D at 0x2df41c8bb88>,\n",
       "  <matplotlib.lines.Line2D at 0x2df41c8bfc8>],\n",
       " 'caps': [<matplotlib.lines.Line2D at 0x2df41c8bd08>,\n",
       "  <matplotlib.lines.Line2D at 0x2df41c8ebc8>],\n",
       " 'boxes': [<matplotlib.lines.Line2D at 0x2df41c8b348>],\n",
       " 'medians': [<matplotlib.lines.Line2D at 0x2df41c8ecc8>],\n",
       " 'fliers': [<matplotlib.lines.Line2D at 0x2df41c8ed48>],\n",
       " 'means': []}"
      ]
     },
     "execution_count": 234,
     "metadata": {},
     "output_type": "execute_result"
    },
    {
     "data": {
      "image/png": "[encoded data removed]",
      "text/plain": [
       "<Figure size 432x288 with 1 Axes>"
      ]
     },
     "metadata": {
      "needs_background": "light"
     },
     "output_type": "display_data"
    }
   ],
   "source": [
    "plt.boxplot(outliers)"
   ]
  },
  {
   "cell_type": "code",
   "execution_count": 235,
   "metadata": {},
   "outputs": [
    {
     "data": {
      "text/plain": [
       "(array([ 52., 178.,  31.,  18.,  80.,   9.,  26.,   9.,  17.,   7.]),\n",
       " array([  49.96 ,  281.952,  513.944,  745.936,  977.928, 1209.92 ,\n",
       "        1441.912, 1673.904, 1905.896, 2137.888, 2369.88 ]),\n",
       " <a list of 10 Patch objects>)"
      ]
     },
     "execution_count": 235,
     "metadata": {},
     "output_type": "execute_result"
    },
    {
     "data": {
      "image/png": "[encoded data removed]",
      "text/plain": [
       "<Figure size 432x288 with 1 Axes>"
      ]
     },
     "metadata": {
      "needs_background": "light"
     },
     "output_type": "display_data"
    }
   ],
   "source": [
    "plt.hist(outliers)"
   ]
  },
  {
   "cell_type": "code",
   "execution_count": 236,
   "metadata": {},
   "outputs": [
    {
     "data": {
      "text/plain": [
       "<matplotlib.axes._subplots.AxesSubplot at 0x2df41c29408>"
      ]
     },
     "execution_count": 236,
     "metadata": {},
     "output_type": "execute_result"
    },
    {
     "data": {
      "image/png": "[encoded data removed]",
      "text/plain": [
       "<Figure size 432x288 with 1 Axes>"
      ]
     },
     "metadata": {
      "needs_background": "light"
     },
     "output_type": "display_data"
    }
   ],
   "source": [
    "sns.distplot(outliers, bins=20, kde=True)"
   ]
  },
  {
   "cell_type": "code",
   "execution_count": 244,
   "metadata": {},
   "outputs": [
    {
     "data": {
      "text/html": [
       "<div>\n",
       "<style scoped>\n",
       "    .dataframe tbody tr th:only-of-type {\n",
       "        vertical-align: middle;\n",
       "    }\n",
       "\n",
       "    .dataframe tbody tr th {\n",
       "        vertical-align: top;\n",
       "    }\n",
       "\n",
       "    .dataframe thead th {\n",
       "        text-align: right;\n",
       "    }\n",
       "</style>\n",
       "<table border=\"1\" class=\"dataframe\">\n",
       "  <thead>\n",
       "    <tr style=\"text-align: right;\">\n",
       "      <th></th>\n",
       "      <th>Unnamed: 0</th>\n",
       "      <th>DBM Order</th>\n",
       "      <th>Order Item</th>\n",
       "      <th>Material</th>\n",
       "      <th>Description</th>\n",
       "      <th>Item Category</th>\n",
       "      <th>Order Quantity</th>\n",
       "      <th>Target quantity UoM</th>\n",
       "      <th>Net value</th>\n",
       "    </tr>\n",
       "  </thead>\n",
       "  <tbody>\n",
       "    <tr>\n",
       "      <td>0</td>\n",
       "      <td>0</td>\n",
       "      <td>22385</td>\n",
       "      <td>180</td>\n",
       "      <td>OSLCC_SRV31</td>\n",
       "      <td>MACHINING RR.SUSPENSION CHARGE  (MAJOR)</td>\n",
       "      <td>P010</td>\n",
       "      <td>1.2</td>\n",
       "      <td>MIN</td>\n",
       "      <td>1869.87</td>\n",
       "    </tr>\n",
       "    <tr>\n",
       "      <td>1</td>\n",
       "      <td>1</td>\n",
       "      <td>23910</td>\n",
       "      <td>10</td>\n",
       "      <td>1DM279018170117</td>\n",
       "      <td>ASSY.OIL COOLER (6-PLATE) (VOR</td>\n",
       "      <td>P002</td>\n",
       "      <td>1.0</td>\n",
       "      <td>EA</td>\n",
       "      <td>2151.13</td>\n",
       "    </tr>\n",
       "    <tr>\n",
       "      <td>2</td>\n",
       "      <td>2</td>\n",
       "      <td>23910</td>\n",
       "      <td>40</td>\n",
       "      <td>1IS150203BE01</td>\n",
       "      <td>FRONT WHEEL BEARING/ LUBRICATE</td>\n",
       "      <td>P002</td>\n",
       "      <td>1.0</td>\n",
       "      <td>EA</td>\n",
       "      <td>2552.92</td>\n",
       "    </tr>\n",
       "    <tr>\n",
       "      <td>3</td>\n",
       "      <td>3</td>\n",
       "      <td>23910</td>\n",
       "      <td>60</td>\n",
       "      <td>1DM279001990173</td>\n",
       "      <td>ASSY.CYL.HEAD W /O INJ.(NA W /O</td>\n",
       "      <td>P002</td>\n",
       "      <td>1.0</td>\n",
       "      <td>EA</td>\n",
       "      <td>20360.14</td>\n",
       "    </tr>\n",
       "    <tr>\n",
       "      <td>4</td>\n",
       "      <td>4</td>\n",
       "      <td>23910</td>\n",
       "      <td>70</td>\n",
       "      <td>1DM88552790S001SA</td>\n",
       "      <td>Engine Overhaul Kit -Indica Di</td>\n",
       "      <td>P002</td>\n",
       "      <td>1.0</td>\n",
       "      <td>EA</td>\n",
       "      <td>10691.63</td>\n",
       "    </tr>\n",
       "  </tbody>\n",
       "</table>\n",
       "</div>"
      ],
      "text/plain": [
       "   Unnamed: 0  DBM Order  Order Item           Material  \\\n",
       "0           0      22385         180        OSLCC_SRV31   \n",
       "1           1      23910          10    1DM279018170117   \n",
       "2           2      23910          40      1IS150203BE01   \n",
       "3           3      23910          60    1DM279001990173   \n",
       "4           4      23910          70  1DM88552790S001SA   \n",
       "\n",
       "                               Description Item Category  Order Quantity  \\\n",
       "0  MACHINING RR.SUSPENSION CHARGE  (MAJOR)          P010             1.2   \n",
       "1           ASSY.OIL COOLER (6-PLATE) (VOR          P002             1.0   \n",
       "2           FRONT WHEEL BEARING/ LUBRICATE          P002             1.0   \n",
       "3          ASSY.CYL.HEAD W /O INJ.(NA W /O          P002             1.0   \n",
       "4           Engine Overhaul Kit -Indica Di          P002             1.0   \n",
       "\n",
       "  Target quantity UoM  Net value  \n",
       "0                 MIN    1869.87  \n",
       "1                  EA    2151.13  \n",
       "2                  EA    2552.92  \n",
       "3                  EA   20360.14  \n",
       "4                  EA   10691.63  "
      ]
     },
     "execution_count": 244,
     "metadata": {},
     "output_type": "execute_result"
    }
   ],
   "source": [
    "jtd = pd.read_csv('jtd_data_clean.csv')\n",
    "jtd.head()"
   ]
  },
  {
   "cell_type": "code",
   "execution_count": 247,
   "metadata": {},
   "outputs": [
    {
     "data": {
      "text/plain": [
       "<matplotlib.axes._subplots.AxesSubplot at 0x2df6e4ceb88>"
      ]
     },
     "execution_count": 247,
     "metadata": {},
     "output_type": "execute_result"
    },
    {
     "data": {
      "image/png": "[encoded data removed]",
      "text/plain": [
       "<Figure size 432x288 with 1 Axes>"
      ]
     },
     "metadata": {
      "needs_background": "light"
     },
     "output_type": "display_data"
    }
   ],
   "source": [
    "jtd['Order Quantity'].hist()"
   ]
  },
  {
   "cell_type": "code",
   "execution_count": 249,
   "metadata": {},
   "outputs": [
    {
     "data": {
      "text/plain": [
       "Index(['Unnamed: 0', 'Unnamed: 0.1', 'Cust Type', 'Customer No.',\n",
       "       'Gate Pass Time', 'Invoice No', 'Job Card No', 'KMs Reading',\n",
       "       'Labour Total', 'Make', 'Misc Total', 'Model', 'OSL Total',\n",
       "       'Order Type', 'Parts Total', 'Pin code', 'Plant', 'Plant Name1',\n",
       "       'Print Status', 'Recovrbl Exp', 'Total Amt Wtd Tax.', 'User ID',\n",
       "       'Invoice_DateTime', 'JobCard_DateTime', 'Service_Time', 'Clean_CITY',\n",
       "       'Clean_District', 'Clean_Location_Area'],\n",
       "      dtype='object')"
      ]
     },
     "execution_count": 249,
     "metadata": {},
     "output_type": "execute_result"
    }
   ],
   "source": [
    "invoice_data.columns"
   ]
  },
  {
   "cell_type": "code",
   "execution_count": 250,
   "metadata": {},
   "outputs": [
    {
     "data": {
      "text/html": [
       "<div>\n",
       "<style scoped>\n",
       "    .dataframe tbody tr th:only-of-type {\n",
       "        vertical-align: middle;\n",
       "    }\n",
       "\n",
       "    .dataframe tbody tr th {\n",
       "        vertical-align: top;\n",
       "    }\n",
       "\n",
       "    .dataframe thead th {\n",
       "        text-align: right;\n",
       "    }\n",
       "</style>\n",
       "<table border=\"1\" class=\"dataframe\">\n",
       "  <thead>\n",
       "    <tr style=\"text-align: right;\">\n",
       "      <th></th>\n",
       "      <th>Invoice_DateTime</th>\n",
       "      <th>JobCard_DateTime</th>\n",
       "      <th>Service_Time</th>\n",
       "    </tr>\n",
       "  </thead>\n",
       "  <tbody>\n",
       "    <tr>\n",
       "      <td>0</td>\n",
       "      <td>2015-01-02 11:30:36</td>\n",
       "      <td>2014-12-13 14:29:43</td>\n",
       "      <td>19 days 21:00:53.000000000</td>\n",
       "    </tr>\n",
       "    <tr>\n",
       "      <td>1</td>\n",
       "      <td>2015-01-03 10:07:32</td>\n",
       "      <td>2015-01-02 14:12:18</td>\n",
       "      <td>0 days 19:55:14.000000000</td>\n",
       "    </tr>\n",
       "    <tr>\n",
       "      <td>2</td>\n",
       "      <td>2015-01-03 11:12:57</td>\n",
       "      <td>2015-01-02 11:40:44</td>\n",
       "      <td>0 days 23:32:13.000000000</td>\n",
       "    </tr>\n",
       "    <tr>\n",
       "      <td>3</td>\n",
       "      <td>2015-01-03 11:40:44</td>\n",
       "      <td>2015-01-03 10:12:32</td>\n",
       "      <td>0 days 01:28:12.000000000</td>\n",
       "    </tr>\n",
       "    <tr>\n",
       "      <td>4</td>\n",
       "      <td>2015-01-03 12:07:17</td>\n",
       "      <td>2015-01-02 10:45:42</td>\n",
       "      <td>1 days 01:21:35.000000000</td>\n",
       "    </tr>\n",
       "  </tbody>\n",
       "</table>\n",
       "</div>"
      ],
      "text/plain": [
       "      Invoice_DateTime     JobCard_DateTime                Service_Time\n",
       "0  2015-01-02 11:30:36  2014-12-13 14:29:43  19 days 21:00:53.000000000\n",
       "1  2015-01-03 10:07:32  2015-01-02 14:12:18   0 days 19:55:14.000000000\n",
       "2  2015-01-03 11:12:57  2015-01-02 11:40:44   0 days 23:32:13.000000000\n",
       "3  2015-01-03 11:40:44  2015-01-03 10:12:32   0 days 01:28:12.000000000\n",
       "4  2015-01-03 12:07:17  2015-01-02 10:45:42   1 days 01:21:35.000000000"
      ]
     },
     "execution_count": 250,
     "metadata": {},
     "output_type": "execute_result"
    }
   ],
   "source": [
    "time = invoice_data[['Invoice_DateTime', 'JobCard_DateTime', 'Service_Time']]\n",
    "time.head()"
   ]
  },
  {
   "cell_type": "code",
   "execution_count": 252,
   "metadata": {},
   "outputs": [
    {
     "name": "stderr",
     "output_type": "stream",
     "text": [
      "C:\\Users\\admin\\Anaconda3\\lib\\site-packages\\ipykernel_launcher.py:1: SettingWithCopyWarning: \n",
      "A value is trying to be set on a copy of a slice from a DataFrame.\n",
      "Try using .loc[row_indexer,col_indexer] = value instead\n",
      "\n",
      "See the caveats in the documentation: http://pandas.pydata.org/pandas-docs/stable/user_guide/indexing.html#returning-a-view-versus-a-copy\n",
      "  \"\"\"Entry point for launching an IPython kernel.\n",
      "C:\\Users\\admin\\Anaconda3\\lib\\site-packages\\ipykernel_launcher.py:2: SettingWithCopyWarning: \n",
      "A value is trying to be set on a copy of a slice from a DataFrame.\n",
      "Try using .loc[row_indexer,col_indexer] = value instead\n",
      "\n",
      "See the caveats in the documentation: http://pandas.pydata.org/pandas-docs/stable/user_guide/indexing.html#returning-a-view-versus-a-copy\n",
      "  \n",
      "C:\\Users\\admin\\Anaconda3\\lib\\site-packages\\ipykernel_launcher.py:3: SettingWithCopyWarning: \n",
      "A value is trying to be set on a copy of a slice from a DataFrame.\n",
      "Try using .loc[row_indexer,col_indexer] = value instead\n",
      "\n",
      "See the caveats in the documentation: http://pandas.pydata.org/pandas-docs/stable/user_guide/indexing.html#returning-a-view-versus-a-copy\n",
      "  This is separate from the ipykernel package so we can avoid doing imports until\n"
     ]
    }
   ],
   "source": [
    "time['JobCard_DateTime'] = pd.to_datetime(time['JobCard_DateTime'],dayfirst=True)\n",
    "time['Invoice_DateTime'] = pd.to_datetime(time['Invoice_DateTime'],dayfirst=True)\n",
    "time['Service_Time2'] = time['JobCard_DateTime'] - time['Invoice_DateTime']"
   ]
  },
  {
   "cell_type": "code",
   "execution_count": 253,
   "metadata": {},
   "outputs": [
    {
     "data": {
      "text/html": [
       "<div>\n",
       "<style scoped>\n",
       "    .dataframe tbody tr th:only-of-type {\n",
       "        vertical-align: middle;\n",
       "    }\n",
       "\n",
       "    .dataframe tbody tr th {\n",
       "        vertical-align: top;\n",
       "    }\n",
       "\n",
       "    .dataframe thead th {\n",
       "        text-align: right;\n",
       "    }\n",
       "</style>\n",
       "<table border=\"1\" class=\"dataframe\">\n",
       "  <thead>\n",
       "    <tr style=\"text-align: right;\">\n",
       "      <th></th>\n",
       "      <th>Invoice_DateTime</th>\n",
       "      <th>JobCard_DateTime</th>\n",
       "      <th>Service_Time</th>\n",
       "      <th>Service_Time2</th>\n",
       "    </tr>\n",
       "  </thead>\n",
       "  <tbody>\n",
       "    <tr>\n",
       "      <td>0</td>\n",
       "      <td>2015-01-02 11:30:36</td>\n",
       "      <td>2014-12-13 14:29:43</td>\n",
       "      <td>19 days 21:00:53.000000000</td>\n",
       "      <td>-20 days +02:59:07</td>\n",
       "    </tr>\n",
       "    <tr>\n",
       "      <td>1</td>\n",
       "      <td>2015-01-03 10:07:32</td>\n",
       "      <td>2015-01-02 14:12:18</td>\n",
       "      <td>0 days 19:55:14.000000000</td>\n",
       "      <td>-1 days +04:04:46</td>\n",
       "    </tr>\n",
       "    <tr>\n",
       "      <td>2</td>\n",
       "      <td>2015-01-03 11:12:57</td>\n",
       "      <td>2015-01-02 11:40:44</td>\n",
       "      <td>0 days 23:32:13.000000000</td>\n",
       "      <td>-1 days +00:27:47</td>\n",
       "    </tr>\n",
       "    <tr>\n",
       "      <td>3</td>\n",
       "      <td>2015-01-03 11:40:44</td>\n",
       "      <td>2015-01-03 10:12:32</td>\n",
       "      <td>0 days 01:28:12.000000000</td>\n",
       "      <td>-1 days +22:31:48</td>\n",
       "    </tr>\n",
       "    <tr>\n",
       "      <td>4</td>\n",
       "      <td>2015-01-03 12:07:17</td>\n",
       "      <td>2015-01-02 10:45:42</td>\n",
       "      <td>1 days 01:21:35.000000000</td>\n",
       "      <td>-2 days +22:38:25</td>\n",
       "    </tr>\n",
       "  </tbody>\n",
       "</table>\n",
       "</div>"
      ],
      "text/plain": [
       "     Invoice_DateTime    JobCard_DateTime                Service_Time  \\\n",
       "0 2015-01-02 11:30:36 2014-12-13 14:29:43  19 days 21:00:53.000000000   \n",
       "1 2015-01-03 10:07:32 2015-01-02 14:12:18   0 days 19:55:14.000000000   \n",
       "2 2015-01-03 11:12:57 2015-01-02 11:40:44   0 days 23:32:13.000000000   \n",
       "3 2015-01-03 11:40:44 2015-01-03 10:12:32   0 days 01:28:12.000000000   \n",
       "4 2015-01-03 12:07:17 2015-01-02 10:45:42   1 days 01:21:35.000000000   \n",
       "\n",
       "       Service_Time2  \n",
       "0 -20 days +02:59:07  \n",
       "1  -1 days +04:04:46  \n",
       "2  -1 days +00:27:47  \n",
       "3  -1 days +22:31:48  \n",
       "4  -2 days +22:38:25  "
      ]
     },
     "execution_count": 253,
     "metadata": {},
     "output_type": "execute_result"
    }
   ],
   "source": [
    "time.head()"
   ]
  },
  {
   "cell_type": "code",
   "execution_count": 256,
   "metadata": {},
   "outputs": [
    {
     "data": {
      "text/plain": [
       "-1 days +23:56:23     72\n",
       "-1 days +23:55:32     72\n",
       "-1 days +23:56:24     70\n",
       "-1 days +23:56:35     70\n",
       "-1 days +23:56:22     69\n",
       "                      ..\n",
       "-3 days +08:13:10      1\n",
       "-26 days +00:40:52     1\n",
       "-4 days +19:58:12      1\n",
       "-18 days +18:47:04     1\n",
       "-4 days +11:22:25      1\n",
       "Name: Service_Time2, Length: 215656, dtype: int64"
      ]
     },
     "execution_count": 256,
     "metadata": {},
     "output_type": "execute_result"
    }
   ],
   "source": [
    "time['Service_Time2'].value_counts()"
   ]
  },
  {
   "cell_type": "code",
   "execution_count": 257,
   "metadata": {},
   "outputs": [
    {
     "data": {
      "text/plain": [
       "Maharashtra                                 112927\n",
       "Tamil Nadu                                  108901\n",
       "Karnataka                                    40800\n",
       "Telangana                                    30144\n",
       "Uttar Pradesh                                28513\n",
       "Gujarat                                      21262\n",
       "Punjab                                       18998\n",
       "Andhra Pradesh                               15791\n",
       "Haryana                                      15209\n",
       "Madhya Pradesh                               12801\n",
       "Rajasthan                                    12797\n",
       "Kerala                                        5331\n",
       "Delhi                                         5129\n",
       "Himachal Pradesh                              2933\n",
       "Bihar                                         2887\n",
       "Uttarakhand                                   2488\n",
       "Odisha                                        2148\n",
       "Pondicherry                                   1728\n",
       "Chandigarh                                    1499\n",
       "West Bengal                                   1311\n",
       "Chattisgarh                                    610\n",
       "Dadra and Nagar Haveli and Daman and Diu       497\n",
       "Jharkhand                                      239\n",
       "Assam                                           91\n",
       "Goa                                             26\n",
       "Jammu & Kashmir                                  4\n",
       "Lakshadweep                                      3\n",
       "Arunachal Pradesh                                1\n",
       "Name: Clean_District, dtype: int64"
      ]
     },
     "execution_count": 257,
     "metadata": {},
     "output_type": "execute_result"
    }
   ],
   "source": [
    "invoice_data['Clean_District'].value_counts()"
   ]
  },
  {
   "cell_type": "code",
   "execution_count": 277,
   "metadata": {},
   "outputs": [],
   "source": [
    "x = invoice_data.groupby('Make')['Model'].value_counts()"
   ]
  },
  {
   "cell_type": "code",
   "execution_count": 289,
   "metadata": {},
   "outputs": [],
   "source": [
    "x = invoice_data['Make'].value_counts().head(8)\n",
    "y = [x.index]\n",
    "y = ['MARUTI SUZUKI', 'MAHINDRA &  MAHINDRA', 'HYUNDAI', 'TATA MOTORS','GENERAL MOTORS', 'FORD', 'TOYOTA', 'HONDA']"
   ]
  },
  {
   "cell_type": "code",
   "execution_count": 299,
   "metadata": {},
   "outputs": [
    {
     "name": "stdout",
     "output_type": "stream",
     "text": [
      "MARUTI SUZUKI\n",
      "SWIFT          31899\n",
      "ALTO           28564\n",
      "WAGONR         22864\n",
      "SWIFT DZIRE    16004\n",
      "800            10185\n",
      "Name: Model, dtype: int64\n",
      "74.44902176720915\n",
      "MAHINDRA &  MAHINDRA\n",
      "SCORPIO CRDE    23771\n",
      "BOLERO          15909\n",
      "XYLO            13346\n",
      "LOGAN D          7353\n",
      "VERITO           5573\n",
      "Name: Model, dtype: int64\n",
      "75.49796236091396\n",
      "HYUNDAI\n",
      "SANTRO    24536\n",
      "I10       21892\n",
      "I20       12896\n",
      "VERNA      8564\n",
      "ACCENT     5734\n",
      "Name: Model, dtype: int64\n",
      "86.26701975580605\n",
      "TATA MOTORS\n",
      "INDICA          19810\n",
      "VISTA           10341\n",
      "INDIGO          10337\n",
      "INDIGO MANZA     4990\n",
      "SAFARI           3773\n",
      "Name: Model, dtype: int64\n",
      "84.86576834269565\n",
      "GENERAL MOTORS\n",
      "SPARK     7270\n",
      "BEAT      6881\n",
      "TAVERA    4454\n",
      "AVEO      1950\n",
      "OPTRA     1699\n",
      "Name: Model, dtype: int64\n",
      "76.49525642788394\n",
      "FORD\n",
      "FIGO         7709\n",
      "FIESTA       7667\n",
      "IKON         4350\n",
      "ECOSPORT      769\n",
      "ENDEAVOUR     446\n",
      "Name: Model, dtype: int64\n",
      "96.87731310140636\n",
      "TOYOTA\n",
      "INNOVA      11470\n",
      "ETIOS        4096\n",
      "QUALIS       1359\n",
      "COROLLA      1023\n",
      "FORTUNER      847\n",
      "Name: Model, dtype: int64\n",
      "96.55296414260762\n",
      "HONDA\n",
      "CITY     10665\n",
      "AMAZE     1503\n",
      "CIVIC     1304\n",
      "BRIO       627\n",
      "JAZZ       486\n",
      "Name: Model, dtype: int64\n",
      "94.31583031557166\n"
     ]
    }
   ],
   "source": [
    "for i in y:\n",
    "    df1 = invoice_data[invoice_data['Make']==i]\n",
    "    print(i)\n",
    "    df = df1['Model'].value_counts().head(5)\n",
    "    print(df)\n",
    "    print((df*100/len(df1)).sum())\n",
    "#     plt.figure(figsize=[14,8])\n",
    "#     plt.xlabel('Types of Services')\n",
    "#     plt.ylabel('No. of customers per Service Type')\n",
    "#     plt.title('Distribution of customers across various services')\n",
    "#     plt.xticks(rotation=45)\n",
    "#     plt.bar(df.index, df)"
   ]
  },
  {
   "cell_type": "code",
   "execution_count": 327,
   "metadata": {},
   "outputs": [
    {
     "data": {
      "text/plain": [
       "<BarContainer object of 15 artists>"
      ]
     },
     "execution_count": 327,
     "metadata": {},
     "output_type": "execute_result"
    },
    {
     "data": {
      "image/png": "[encoded data removed]",
      "text/plain": [
       "<Figure size 1008x576 with 1 Axes>"
      ]
     },
     "metadata": {
      "needs_background": "light"
     },
     "output_type": "display_data"
    }
   ],
   "source": [
    "import matplotlib.patches as mpatches\n",
    "df = invoice_data['Model'].value_counts().head(15)\n",
    "# fig, ax = plt.subplots(figsize=[14,8])\n",
    "# df.plot(kind = 'bar',ax = ax,color = ['purple', 'purple','navy','aquamarine','purple','navy','gold','purple','aquamarine','aquamarine','navy','black','red','gold','gold'] )\n",
    "# custom_lines = ['purple','navy','aquamarine','gold','black','red']\n",
    "# ax.legend(custom_lines, ['MARUTI SUZUKI','HYUNDAI','MAHINDRA','TATA MOTORS','TOYOTA','HONDA'])\n",
    "plt.figure(figsize=[14,8])\n",
    "plt.xlabel('Car Models')\n",
    "plt.ylabel('No. of customers per Model Type')\n",
    "plt.title('Distribution of customers across different models')\n",
    "plt.xticks(rotation=45)\n",
    "purple_patch = mpatches.Patch(color='purple', label = 'MARUTI SUZUKI')\n",
    "navy_patch = mpatches.Patch(color='navy', label='HYUNDAI')\n",
    "aquamarine_patch = mpatches.Patch(color='aquamarine', label='MAHINDRA')\n",
    "gold_patch = mpatches.Patch(color='gold', label='TATA MOTORS')\n",
    "black_patch = mpatches.Patch(color='black', label='TOYOTA')\n",
    "red_patch = mpatches.Patch(color='red', label='HONDA')\n",
    "# red_patch = mpatches.Patch(color='red', label='HONDA')\n",
    "plt.legend(handles = [purple_patch,navy_patch,aquamarine_patch,gold_patch,black_patch,red_patch])\n",
    "plt.bar(df.index, df, color = ['purple', 'purple','navy','aquamarine','purple','navy','gold','purple','aquamarine','aquamarine','navy','black','red','gold','gold'])"
   ]
  },
  {
   "cell_type": "code",
   "execution_count": null,
   "metadata": {},
   "outputs": [],
   "source": []
  }
 ],
 "metadata": {
  "kernelspec": {
   "display_name": "Python 3",
   "language": "python",
   "name": "python3"
  },
  "language_info": {
   "codemirror_mode": {
    "name": "ipython",
    "version": 3
   },
   "file_extension": ".py",
   "mimetype": "text/x-python",
   "name": "python",
   "nbconvert_exporter": "python",
   "pygments_lexer": "ipython3",
   "version": "3.7.7"
  }
 },
 "nbformat": 4,
 "nbformat_minor": 2
}
